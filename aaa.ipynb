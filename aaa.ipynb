{
 "cells": [
  {
   "cell_type": "markdown",
   "id": "27a8cc2c",
   "metadata": {},
   "source": [
    "## 1. What Is Object-Oriented Programming?"
   ]
  },
  {
   "cell_type": "markdown",
   "id": "c6bb8b82",
   "metadata": {},
   "source": [
    "1) Object-oriented programming (OOP) is a style of programming characterized by the identification \n",
    "  of classes of objects closely linked with the methods (functions) with which they are associated.\n",
    "    \n",
    "    \n",
    "2) It also includes ideas of inheritance of attributes and methods.\n",
    "  It is a technique based on a mathematical discipline, called “abstract data types,” \n",
    "  for storing data with the procedures needed to process that data.\n",
    "\n",
    "\n",
    "3) OOP offers the potential to evolve programming to a higher level of abstraction.\n",
    "\n"
   ]
  },
  {
   "cell_type": "markdown",
   "id": "74d75e10",
   "metadata": {},
   "source": [
    "## 2. Difference between Procedural programming and OOPs?"
   ]
  },
  {
   "cell_type": "markdown",
   "id": "0547a544",
   "metadata": {},
   "source": [
    "### Procedural programming :"
   ]
  },
  {
   "cell_type": "markdown",
   "id": "0fe44c51",
   "metadata": {},
   "source": [
    "1) In procedural programming, the program is divided into small parts called functions.\n",
    "\n",
    "\n",
    "2) Procedural programming follows a top-down approach.\n",
    "\n",
    "\n",
    "3) There is no access specifier in procedural programming.\n",
    "\n",
    "\n",
    "4) Adding new data and functions is not easy.\n",
    "\n",
    "\n",
    "5) Procedural programming does not have any proper way of hiding data so it is less secure.\n",
    "\n",
    "\n",
    "6) In procedural programming, overloading is not possible.\n",
    "\n",
    "\n",
    "7) In procedural programming, there is no concept of data hiding and inheritance.\n",
    "\n",
    "8) Procedural programming is based on the unreal world.\n",
    "    Procedural programming is used for designing medium-sized programs.\n",
    "    Procedural programming uses the concept of procedure abstraction.\n",
    "    Code reusability absent in procedural programming,\n",
    "    Examples: C, FORTRAN, Pascal, Basic, "
   ]
  },
  {
   "cell_type": "markdown",
   "id": "337531fe",
   "metadata": {},
   "source": [
    "### OOPs"
   ]
  },
  {
   "cell_type": "markdown",
   "id": "fe859c03",
   "metadata": {},
   "source": [
    "1) In object-oriented programming, the program is divided into small parts called objects.\n",
    "\n",
    "2) Object-oriented programming follows a bottom-up approach.\n",
    "\n",
    "3) Object-oriented programming has access specifiers like private, public, protected, etc.\n",
    "\n",
    "4) Adding new data and function is easy.\n",
    "\n",
    "5) Object-oriented programming provides data hiding so it is more secure.\n",
    "\n",
    "6) Overloading is possible in object-oriented programming.\n",
    "\n",
    "7) In object-oriented programming, the concept of data hiding and inheritance is used.\n",
    "\n",
    "8) Object-oriented programming is based on the real world.\n",
    "   Object-oriented programming is used for designing large and complex programs.\n",
    "   Object-oriented programming uses the concept of data abstraction.\n",
    "   Code reusability present in object-oriented programming.\n",
    "   etc.Examples: C++, Java, Python, C#, etc."
   ]
  },
  {
   "cell_type": "markdown",
   "id": "a056da7f",
   "metadata": {},
   "source": [
    "## 3. What are the fundamental principles/features of Object-Oriented Programming?"
   ]
  },
  {
   "cell_type": "markdown",
   "id": "9c67fa86",
   "metadata": {},
   "source": [
    "### Principles of Object-Oriented Programming\n",
    "*  Abstraction.\n",
    "\n",
    "*  Encapsulation.\n",
    "\n",
    "*  Inheritance.\n",
    "\n",
    "*  Polymorphism."
   ]
  },
  {
   "cell_type": "markdown",
   "id": "d1ba746b",
   "metadata": {},
   "source": [
    "## 4. What is an object?"
   ]
  },
  {
   "cell_type": "markdown",
   "id": "61250c16",
   "metadata": {},
   "source": [
    "1) An Object is an instance of a Class. \n",
    "   A class is like a blueprint while an instance is a copy of the class with actual values.\n",
    "   Python is object-oriented programming language that stresses on objects i.e. it mainly emphasizes functions.\n",
    "   Objects are basically an encapsulation of data variables and methods acting on that data into a single entity.\n",
    "   \n",
    "2) Instance defining represent memory allocation necessary for storing the actual data of variables.\n",
    "   Each time when you create an object of class the copy of each data variables defined in that class is created.\n",
    "   In simple language we can state that each object of a class has its own copy of data members defined in that class."
   ]
  },
  {
   "cell_type": "markdown",
   "id": "63c589c1",
   "metadata": {},
   "source": [
    "## 5. What is a class?"
   ]
  },
  {
   "cell_type": "markdown",
   "id": "cace2bda",
   "metadata": {},
   "source": [
    "1) A class is a user-defined blueprint or prototype from which objects are created.\n",
    "   Classes provide a means of bundling data and functionality together.\n",
    "   Creating a new class creates a new type of object, allowing new instances of that type to be made.\n",
    "   Each class instance can have attributes attached to it for maintaining its state.\n",
    "   Class instances can also have methods (defined by their class) for modifying their state.\n",
    "\n",
    "2)  let’s say you wanted to track the number of dogs that may have different attributes like breed, and age.\n",
    "If a list is used, the first element could be the dog’s breed while the second element could represent its age.\n",
    "Let’s suppose there are 100 different dogs, then how would you know which element is supposed to be which?\n",
    "What if you wanted to add other properties to these dogs?\n",
    "This lacks organization and it’s the exact need for classes. "
   ]
  },
  {
   "cell_type": "markdown",
   "id": "27df3111",
   "metadata": {},
   "source": [
    "## 6. What is the difference between a class and an object?`"
   ]
  },
  {
   "cell_type": "markdown",
   "id": "9d55df7c",
   "metadata": {},
   "source": [
    "1) An object is simply a collection of data (variables) and methods (functions) that act on those data.\n",
    "Similarly, a class is a blueprint for that object.\n",
    "\n",
    "2) We can think of a class as a sketch (prototype) of a house.\n",
    "It contains all the details about the floors, doors, windows, etc. \n",
    "Based on these descriptions we build the house. House is the object.\n",
    "\n",
    "3) As many houses can be made from a house's blueprint, \n",
    "we can create many objects from a class. An object is also called an instance of\n",
    "a class and the process of creating this object is called instantiation.\n",
    "\n"
   ]
  },
  {
   "cell_type": "markdown",
   "id": "818e8554",
   "metadata": {},
   "source": [
    "## 7. Can you call the base class method without creating an instance?"
   ]
  },
  {
   "cell_type": "markdown",
   "id": "603d2e71",
   "metadata": {},
   "source": [
    "1) Static method can be called without creating an object or instance.\n",
    "Simply create the method and call it directly. \n",
    "This is in a sense orthogonal to object orientated programming: we call a method without creating objects.\n",
    "\n",
    "2) This runs directly against the concept of object oriented programming and might be frowned upon,\n",
    "but at times it can be useful to have a static method."
   ]
  },
  {
   "cell_type": "code",
   "execution_count": 5,
   "id": "3eec80ff",
   "metadata": {},
   "outputs": [
    {
     "name": "stdout",
     "output_type": "stream",
     "text": [
      "*playing music*\n"
     ]
    }
   ],
   "source": [
    "class Music:\n",
    "    @staticmethod\n",
    "    def play():\n",
    "        print(\"*playing music*\")\n",
    "\n",
    "Music.play()"
   ]
  },
  {
   "cell_type": "markdown",
   "id": "8de9aaa0",
   "metadata": {},
   "source": [
    "## 8. What is inheritance?"
   ]
  },
  {
   "cell_type": "markdown",
   "id": "dc6d6a64",
   "metadata": {},
   "source": [
    "1)  It allows a class to inherit the properties from other class\n",
    "    Properties >>     Variables and Methods\n",
    "    \n",
    "2)  To use one class features in another class\n",
    "\n",
    "3)  It helps us to reuse the code"
   ]
  },
  {
   "cell_type": "markdown",
   "id": "910f50d9",
   "metadata": {},
   "source": [
    "## 9. What are the different types of inheritance?"
   ]
  },
  {
   "cell_type": "markdown",
   "id": "a7deebea",
   "metadata": {},
   "source": [
    "### Types of Inheritance:\n",
    "    1. Single Inheritance\n",
    "    \n",
    "    2. Multiple Inheritance\n",
    "    \n",
    "    3. Multilevel Inheritance\n",
    "    \n",
    "    4. Hierarchical Inheritance\n",
    "    \n",
    "    5. Hybrid Inheritance"
   ]
  },
  {
   "cell_type": "markdown",
   "id": "fa9a2a6b",
   "metadata": {},
   "source": [
    "## 10. What is the difference between multiple and multilevel inheritances?"
   ]
  },
  {
   "cell_type": "markdown",
   "id": "18062c0c",
   "metadata": {},
   "source": [
    "## Multiple Inheritance"
   ]
  },
  {
   "cell_type": "markdown",
   "id": "ba9591aa",
   "metadata": {},
   "source": [
    "1) Multiple Inheritance is an Inheritance type where a class inherits from more than one base class.\n",
    "\n",
    "2) Multiple Inheritance is not widely used because it makes the system more complex.\n",
    "\n",
    "3) Multiple Inheritance has two class levels namely, base class and derived class."
   ]
  },
  {
   "cell_type": "markdown",
   "id": "61a9380e",
   "metadata": {},
   "source": [
    "## Multilevel Inheritance"
   ]
  },
  {
   "cell_type": "markdown",
   "id": "250f0b8e",
   "metadata": {},
   "source": [
    "1) Multilevel Inheritance is an Inheritance type that inherits from a derived class, making that derived class a base class for a new class.\n",
    "\n",
    "2) Multilevel Inheritance is widely used.\n",
    "\n",
    "3) Multilevel Inheritance has three class levels namely, base class, intermediate class and derived class."
   ]
  },
  {
   "cell_type": "markdown",
   "id": "da079978",
   "metadata": {},
   "source": [
    "## 11. What are the limitations of inheritance?"
   ]
  },
  {
   "cell_type": "markdown",
   "id": "3ed5a772",
   "metadata": {},
   "source": [
    "1) One of the main disadvantages of inheritance is the increased time/effort it takes the program to jump through all the levels of overloaded classes. If a given class has ten levels of abstraction above it, then it will essentially take ten jumps to run through a function defined in each of those classes\n",
    "\n",
    "2) Main disadvantage of using inheritance is that the two classes (base and inherited class) get tightly coupled. This means one cannot be used independent of each other.\n",
    "\n",
    "3) Also with time, during maintenance adding new features both base as well as derived classes are required to be changed. If a method signature is changed then we will be affected in both cases (inheritance & composition)\n",
    "\n",
    "4) If a method is deleted in the \"super class\" or aggregate, then we will have to re-factor in case of using that method.Here things can get a bit complicated in case of inheritance because our programs will still compile, but the methods of the subclass will no longer be overriding superclass methods. These methods will become independent methods in their own right.\n",
    "\n"
   ]
  },
  {
   "cell_type": "markdown",
   "id": "427994f2",
   "metadata": {},
   "source": [
    "## 12. What are the superclass and subclass?"
   ]
  },
  {
   "cell_type": "markdown",
   "id": "b122c8e1",
   "metadata": {},
   "source": [
    "### Superclasses\n",
    "\n",
    "\n",
    "1) A superclass is the class from which many subclasses can be created.\n",
    "  The subclasses inherit the characteristics of a superclass. \n",
    "  The superclass is also known as the parent class or base class.\n",
    "  "
   ]
  },
  {
   "cell_type": "markdown",
   "id": "dfc8f93a",
   "metadata": {},
   "source": [
    "### Subclasses\n",
    "\n",
    "1) A subclass is a class derived from the superclass.\n",
    "It inherits the properties of the superclass and also contains attributes of its own"
   ]
  },
  {
   "cell_type": "markdown",
   "id": "4810aa51",
   "metadata": {},
   "source": [
    "## 13. What is the super keyword?"
   ]
  },
  {
   "cell_type": "markdown",
   "id": "e92f5e83",
   "metadata": {},
   "source": [
    "1) super is build in function.\n",
    "\n",
    "2) The super() function is used to give access to methods and properties of a parent or sibling class. \n",
    "\n",
    "3) The super() function returns an object that represents the parent class."
   ]
  },
  {
   "cell_type": "markdown",
   "id": "74de7c4b",
   "metadata": {},
   "source": [
    "## 14. What is encapsulation?"
   ]
  },
  {
   "cell_type": "markdown",
   "id": "2bef7c6f",
   "metadata": {},
   "source": [
    "1) Encapsulation is one of the key concepts of object-oriented languages like Python etc. \n",
    "Encapsulation is used to restrict access to methods and variables. \n",
    "In encapsulation, code and data are wrapped together within a single unit from being modified by accident.\n",
    "\n",
    "2) Encapsulation is a mechanism of wrapping the data (variables) and code acting on the data (methods) together as a single unit.\n",
    "In encapsulation, the variables of a class will be hidden from other classes, \n",
    "and can be accessed only through the methods of their current class."
   ]
  },
  {
   "cell_type": "code",
   "execution_count": 10,
   "id": "c1d7ad39",
   "metadata": {},
   "outputs": [
    {
     "ename": "AttributeError",
     "evalue": "'Students' object has no attribute 'demofunc'",
     "output_type": "error",
     "traceback": [
      "\u001b[1;31m---------------------------------------------------------------------------\u001b[0m",
      "\u001b[1;31mAttributeError\u001b[0m                            Traceback (most recent call last)",
      "\u001b[1;32m~\\AppData\\Local\\Temp/ipykernel_6456/1002767477.py\u001b[0m in \u001b[0;36m<module>\u001b[1;34m\u001b[0m\n\u001b[0;32m     17\u001b[0m \u001b[1;33m\u001b[0m\u001b[0m\n\u001b[0;32m     18\u001b[0m \u001b[1;31m# call the functions using the objects created above\u001b[0m\u001b[1;33m\u001b[0m\u001b[1;33m\u001b[0m\u001b[0m\n\u001b[1;32m---> 19\u001b[1;33m \u001b[0mst1\u001b[0m\u001b[1;33m.\u001b[0m\u001b[0mdemofunc\u001b[0m\u001b[1;33m(\u001b[0m\u001b[1;33m)\u001b[0m\u001b[1;33m\u001b[0m\u001b[1;33m\u001b[0m\u001b[0m\n\u001b[0m\u001b[0;32m     20\u001b[0m \u001b[0mst2\u001b[0m\u001b[1;33m.\u001b[0m\u001b[0mdemofunc\u001b[0m\u001b[1;33m(\u001b[0m\u001b[1;33m)\u001b[0m\u001b[1;33m\u001b[0m\u001b[1;33m\u001b[0m\u001b[0m\n\u001b[0;32m     21\u001b[0m \u001b[0mst3\u001b[0m\u001b[1;33m.\u001b[0m\u001b[0mdemofunc\u001b[0m\u001b[1;33m(\u001b[0m\u001b[1;33m)\u001b[0m\u001b[1;33m\u001b[0m\u001b[1;33m\u001b[0m\u001b[0m\n",
      "\u001b[1;31mAttributeError\u001b[0m: 'Students' object has no attribute 'demofunc'"
     ]
    }
   ],
   "source": [
    "class Students:\n",
    "   def __init__(self, name, rank, points):\n",
    "      self.name = name\n",
    "      self.rank = rank\n",
    "      self.points = points\n",
    "\n",
    "   # custom function\n",
    "   def __demofunc(self): # restrict acess\n",
    "      print(\"I am \"+self.name)\n",
    "      print(\"I got Rank \",+self.rank)\n",
    "\n",
    "# create 4 objects\n",
    "st1 = Students(\"Steve\", 1, 100)\n",
    "st2 = Students(\"Chris\", 2, 90)\n",
    "st3 = Students(\"Mark\", 3, 76)\n",
    "st4 = Students(\"Kate\", 4, 60)\n",
    "\n",
    "# call the functions using the objects created above\n",
    "st1.demofunc()\n",
    "st2.demofunc()\n",
    "st3.demofunc()\n",
    "st4.demofunc()"
   ]
  },
  {
   "cell_type": "markdown",
   "id": "0728a61f",
   "metadata": {},
   "source": [
    "## 15. What is the name mangling and how does it work?"
   ]
  },
  {
   "cell_type": "markdown",
   "id": "678d726b",
   "metadata": {},
   "source": [
    "1) In name mangling process any identifier with two leading underscore and \n",
    "one trailing underscore is textually replaced with _classname__identifier where \n",
    "classname is the name of the current class. It means that any identifier of the \n",
    "form __geek (at least two leading underscores or at most one trailing underscore) \n",
    "is replaced with _classname__geek,\n",
    "where classname is the current class name with leading underscore(s) stripped."
   ]
  },
  {
   "cell_type": "code",
   "execution_count": 11,
   "id": "42dcc064",
   "metadata": {},
   "outputs": [
    {
     "name": "stdout",
     "output_type": "stream",
     "text": [
      "Santhosh\n"
     ]
    },
    {
     "ename": "AttributeError",
     "evalue": "'Student' object has no attribute '__name'",
     "output_type": "error",
     "traceback": [
      "\u001b[1;31m---------------------------------------------------------------------------\u001b[0m",
      "\u001b[1;31mAttributeError\u001b[0m                            Traceback (most recent call last)",
      "\u001b[1;32m~\\AppData\\Local\\Temp/ipykernel_6456/4242211440.py\u001b[0m in \u001b[0;36m<module>\u001b[1;34m\u001b[0m\n\u001b[0;32m     10\u001b[0m \u001b[1;33m\u001b[0m\u001b[0m\n\u001b[0;32m     11\u001b[0m \u001b[1;31m# Raises an error\u001b[0m\u001b[1;33m\u001b[0m\u001b[1;33m\u001b[0m\u001b[0m\n\u001b[1;32m---> 12\u001b[1;33m \u001b[0mprint\u001b[0m\u001b[1;33m(\u001b[0m\u001b[0ms1\u001b[0m\u001b[1;33m.\u001b[0m\u001b[0m__name\u001b[0m\u001b[1;33m)\u001b[0m\u001b[1;33m\u001b[0m\u001b[1;33m\u001b[0m\u001b[0m\n\u001b[0m",
      "\u001b[1;31mAttributeError\u001b[0m: 'Student' object has no attribute '__name'"
     ]
    }
   ],
   "source": [
    "class Student:\n",
    "    def __init__(self, name):\n",
    "        self.__name = name\n",
    "  \n",
    "    def displayName(self):\n",
    "        print(self.__name)\n",
    "  \n",
    "s1 = Student(\"Santhosh\")\n",
    "s1.displayName()\n",
    "  \n",
    "# Raises an error\n",
    "print(s1.__name)"
   ]
  },
  {
   "cell_type": "code",
   "execution_count": 12,
   "id": "e1d6e6b6",
   "metadata": {},
   "outputs": [
    {
     "name": "stdout",
     "output_type": "stream",
     "text": [
      "Santhosh\n"
     ]
    }
   ],
   "source": [
    "class Student:\n",
    "    def __init__(self, name):\n",
    "        self.__name = name\n",
    "  \n",
    "s1 = Student(\"Santhosh\")\n",
    "print(s1._Student__name)"
   ]
  },
  {
   "cell_type": "markdown",
   "id": "7268f686",
   "metadata": {},
   "source": [
    "## 16. What is the difference between public and private access modifiers?"
   ]
  },
  {
   "cell_type": "markdown",
   "id": "ba469f69",
   "metadata": {},
   "source": [
    "### Public Access Modifier:\n",
    "The members of a class that are declared public are easily accessible from any part of the program.\n",
    "All data members and member functions of a class are public by default. "
   ]
  },
  {
   "cell_type": "markdown",
   "id": "d3b97b4f",
   "metadata": {},
   "source": [
    "### Private Access Modifier:\n",
    "\n",
    "The members of a class that are declared private are accessible within the class only, private access modifier is the most secure access modifier. \n",
    "Data members of a class are declared private by adding a double underscore ‘__’ symbol before the data member of that class. "
   ]
  },
  {
   "cell_type": "markdown",
   "id": "5a15e816",
   "metadata": {},
   "source": [
    "## 17. Is Python 100 percent object-oriented?"
   ]
  },
  {
   "cell_type": "markdown",
   "id": "6da7d619",
   "metadata": {},
   "source": [
    "Python supports all the concept of \"object oriented programming\" but it is NOT fully object oriented because - The code in Python can also be written without creating classes."
   ]
  },
  {
   "cell_type": "markdown",
   "id": "190094a7",
   "metadata": {},
   "source": [
    "## 18. What is data abstraction?"
   ]
  },
  {
   "cell_type": "markdown",
   "id": "b09bc71e",
   "metadata": {},
   "source": [
    "1) Abstraction in python is defined as a process of handling complexity by hiding unnecessary information from the user.\n",
    "This is one of the core concepts of object-oriented programming (OOP) languages."
   ]
  },
  {
   "cell_type": "markdown",
   "id": "c0afd70c",
   "metadata": {},
   "source": [
    "## 19. How to achieve data abstraction?"
   ]
  },
  {
   "cell_type": "markdown",
   "id": "b71d56fd",
   "metadata": {},
   "source": [
    "1) Data Abstraction in Python can be achieved through creating abstract classes and inheriting them later.\n",
    "\n",
    "Before discussing what abstract classes are, let us have a brief introduction of inheritance.\n",
    "\n",
    "Inheritance in OOP is a way through which one class inherits the attributes and methods of another class."
   ]
  },
  {
   "cell_type": "markdown",
   "id": "699b9596",
   "metadata": {},
   "source": [
    "## 20. What is an abstract class?"
   ]
  },
  {
   "cell_type": "markdown",
   "id": "cc469e0d",
   "metadata": {},
   "source": [
    "1) A class is called an Abstract class if it contains one or more abstract methods.\n",
    "An abstract method is a method that is declared, but contains no implementation.\n",
    "Abstract classes may not be instantiated, and its abstract methods must be implemented by its subclasses.\n",
    "\n",
    "2) Abstract base classes provide a way to define interfaces when other techniques like\n",
    "hasattr() would be clumsy or subtly wrong (for example with magic methods).\n",
    "ABCs introduce virtual subclasses, which are classes that don’t inherit from a class\n",
    "but are still recognized by isinstance() and issubclass() functions.\n",
    "There are many built-in ABCs in Python.\n",
    "\n",
    "3) ABCs for Data structures like Iterator, Generator, Set, mapping etc.\n",
    "are defined in collections.abc module. The numbers module defines numeric tower which is a collection of base classes for numeric data types.\n",
    "The 'abc' module in Python library provides the infrastructure for defining custom abstract base classes.\n",
    "\n",
    "4) 'abc' works by marking methods of the base class as abstract. This is done by @absttractmethod decorator.\n",
    "A concrete class which is a sub class of such abstract base class then implements the abstract base by overriding its abstract methods.\n",
    "\n",
    "5)The abc module defines ABCMeta class which is a metaclass for defining abstract base class.\n",
    "Following example defines Shape class as an abstract base class using ABCMeta.\n",
    "The shape class has area() method decorated by abstractmethod.\n",
    "\n",
    "6)A Rectangle class now uses above Shape class as its parent and implementing the abstract area() method.\n",
    "Since it is a concrete class, it can be instantiated and imlemented area() method can be called."
   ]
  },
  {
   "cell_type": "code",
   "execution_count": null,
   "id": "240d12b8",
   "metadata": {},
   "outputs": [],
   "source": [
    "class Shape(abc.ABC):\n",
    "   @abc.abstractmethod\n",
    "   def area(self):\n",
    "      pass"
   ]
  },
  {
   "cell_type": "markdown",
   "id": "405a78cc",
   "metadata": {},
   "source": [
    "## 21. Can you create an object of an abstract class?"
   ]
  },
  {
   "cell_type": "markdown",
   "id": "67e6a333",
   "metadata": {},
   "source": [
    "An abstract class is a class, but not one you can create objects from directly. Its purpose is to define how other classes should look like, i.e. what methods and properties they are expected to have"
   ]
  },
  {
   "cell_type": "markdown",
   "id": "a1ca71c8",
   "metadata": {},
   "source": [
    "## 22. Differentiate between data abstraction and encapsulation"
   ]
  },
  {
   "cell_type": "markdown",
   "id": "4f6d8e9a",
   "metadata": {},
   "source": [
    "## Encapsulation\n",
    "Encapsulation is binding the data members with member variables. This will avoid the direct access of variables, because direct access of variables may violate privacy, and hiding of the implementation will not be possible.\n",
    "\n",
    "Encapsulation minimizes your code’s part revealed to the user. The user can be anyone who uses your published code or perhaps your code’s remaining part.\n",
    "\n",
    "Encapsulation works like a protective wrapper that conceals the code and data within the class. That data and code will be accessed outside the method/member function and the class that is not the members of that class.\n",
    "\n",
    "We may have gone through some classic methods in class like set and get, where the set method is used to update or allocate a value to a variable and the get method is used to read or retrieve the value of a variable. Here we can directly access the variables using the object of that class, but if we want to make a variable private then we should use these settings and get methods.\n",
    "\n",
    "The concept is simple, we’ll make the set and get methods public and the variables are private. So the variables can be accessed only through the public methods outside the class since private objects are not accessible outside class but accessible inside class. This concept of binding or bundling variables with methods is called encapsulation."
   ]
  },
  {
   "cell_type": "markdown",
   "id": "bcb707e5",
   "metadata": {},
   "source": [
    "## Abstraction\n",
    "Abstraction is a process of hiding unnecessary data and showing only relevant data. Out of an ocean of data, we are only maintaining the transparency of some data to the user. This important concept in object-oriented programming will reduce the complexity of the code and increases the readability.\n",
    "\n"
   ]
  },
  {
   "cell_type": "markdown",
   "id": "b3c61525",
   "metadata": {},
   "source": [
    "## 23. What is polymorphism?"
   ]
  },
  {
   "cell_type": "markdown",
   "id": "209332ab",
   "metadata": {},
   "source": [
    "1) Polymorphism in python defines methods in the child class that have the same name as the methods in the parent class.\n",
    "\n",
    "2) In inheritance, the child class inherits the methods from the parent class.\n",
    "\n",
    "3) it is possible to modify a method in a child class that it has inherited from the parent class"
   ]
  },
  {
   "cell_type": "markdown",
   "id": "5d927636",
   "metadata": {},
   "source": [
    "## 24. What is the overloading method?"
   ]
  },
  {
   "cell_type": "markdown",
   "id": "3f882980",
   "metadata": {},
   "source": [
    "1) Two methods cannot have the same name in Python.\n",
    "Method overloading in Python is a feature that allows the same operator to have different meanings.\n",
    "\n",
    "\n",
    "2) Overloading is the ability of a function or an operator to behave in different ways based on the parameters that\n",
    "are passed to the function, or the operands that the operator acts on.\n",
    "\n",
    "* Overloading a method fosters reusability. For example, instead of writing multiple methods that differ only slightly, we can write one method and overload it.\n",
    "\n",
    "* Overloading also improves code clarity and eliminates complexity.\n",
    "\n",
    "* Overloading is a very useful concept. However, it has a number of disadvantages associated with it.\n",
    "\n",
    "* Overloading can create confusion when used across inheritance boundaries. When used excessively, it becomes cumbersome to manage overloaded functions.\n",
    "\n"
   ]
  },
  {
   "cell_type": "code",
   "execution_count": 16,
   "id": "12b0c673",
   "metadata": {},
   "outputs": [
    {
     "name": "stdout",
     "output_type": "stream",
     "text": [
      "Hello \n",
      "Hello Edureka\n"
     ]
    }
   ],
   "source": [
    "class Person:\n",
    "    def Hello(self, name=None):\n",
    "        if name is not None:\n",
    "            print('Hello ' + name)\n",
    "        else:\n",
    "            print('Hello ')\n",
    "# Create instance\n",
    "obj = Person()\n",
    "# Call the method\n",
    "obj.Hello()\n",
    "# Call the method with a parameter\n",
    "obj.Hello('Edureka')"
   ]
  },
  {
   "cell_type": "markdown",
   "id": "c26aa658",
   "metadata": {},
   "source": [
    "## 25. What are the limitations of OOPs?"
   ]
  },
  {
   "cell_type": "markdown",
   "id": "306b1ad8",
   "metadata": {},
   "source": [
    "Steep learning curve:\n",
    "\n",
    "    The thought process involved in object-oriented programming may not be natural for some people, and it can take time to get used to it. It is complex to create programs based on interaction of objects. Some of the key programming techniques, such as inheritance and polymorphism, can be challenging to comprehend initially.\n",
    "    \n",
    "    \n",
    "Larger program size:\n",
    "\n",
    "\n",
    "    Object-oriented programs typically involve more lines of code than procedural programs.\n",
    "    \n",
    "    \n",
    "Slower programs: \n",
    "\n",
    "\n",
    "    Object-oriented programs are typically slower than procedure-based programs, as they typically require more instructions to be executed.\n",
    "    \n",
    "    \n",
    "Not suitable for all types of problems:\n",
    "\n",
    "\n",
    "    There are problems that lend themselves well to functional-programming style, logic-programming style, or procedure-based programming style, and applying object-oriented programming in those situations will not result in efficient programs."
   ]
  },
  {
   "cell_type": "code",
   "execution_count": null,
   "id": "ef2b620c",
   "metadata": {},
   "outputs": [],
   "source": []
  }
 ],
 "metadata": {
  "kernelspec": {
   "display_name": "Python 3 (ipykernel)",
   "language": "python",
   "name": "python3"
  },
  "language_info": {
   "codemirror_mode": {
    "name": "ipython",
    "version": 3
   },
   "file_extension": ".py",
   "mimetype": "text/x-python",
   "name": "python",
   "nbconvert_exporter": "python",
   "pygments_lexer": "ipython3",
   "version": "3.9.7"
  }
 },
 "nbformat": 4,
 "nbformat_minor": 5
}
