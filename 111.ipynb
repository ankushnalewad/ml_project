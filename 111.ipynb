{
 "cells": [
  {
   "cell_type": "markdown",
   "id": "cd8fa0a4",
   "metadata": {},
   "source": [
    "## 1. Define the Pandas/Python pandas?"
   ]
  },
  {
   "cell_type": "code",
   "execution_count": 1,
   "id": "c44fe14d",
   "metadata": {},
   "outputs": [
    {
     "ename": "SyntaxError",
     "evalue": "invalid syntax (Temp/ipykernel_11632/346383020.py, line 2)",
     "output_type": "error",
     "traceback": [
      "\u001b[1;36m  File \u001b[1;32m\"C:\\Users\\Admin\\AppData\\Local\\Temp/ipykernel_11632/346383020.py\"\u001b[1;36m, line \u001b[1;32m2\u001b[0m\n\u001b[1;33m    3. Explain Series and DataFrame In Pandas\u001b[0m\n\u001b[1;37m       ^\u001b[0m\n\u001b[1;31mSyntaxError\u001b[0m\u001b[1;31m:\u001b[0m invalid syntax\n"
     ]
    }
   ],
   "source": [
    "2. What are the different types of Data Structures in Pandas?\n",
    "3. Explain Series and DataFrame In Pandas\n",
    "4. How Can You Create An Empty DataFrame and series in Pandas?\n",
    "5. How to check an empty DataFrame?\n",
    "6. What Are The Most Important Features Of The Pandas Library?\n",
    "7. How Will You Explain Reindexing In Pandas?\n",
    "8. What are the different ways of creating DataFrame in pandas? Explain with\n",
    "examples.\n",
    "9. Create a DataFrame using List.\n",
    "10. Create a DataFrame using Numpy Functions.\n",
    "11. How to convert a NumPy array to a DataFrame of a given shape?\n",
    "12. Create a DataFrame using Dictionary with a list and arrays\n",
    "13. How To Create A Copy Of The Series and DataFrame in Pandas?\n",
    "14. How Will You Add An Index, Row, Or Column To A DataFrame In Pandas?\n",
    "15. What Method Will You Use To Rename The Index Or Columns Of Pandas\n",
    "DataFrame?\n",
    "16. How Can You Iterate Over DataFrame In Pandas?\n",
    "17. How to create an array from DataFrame\n",
    "18. How to create a list from DataFrame\n",
    "19. How to Reset the dataframes index?\n",
    "20. Write a Pandas program to count the number of rows and columns of a DataFrame\n",
    "21. Write a Pandas program to add, subtract, multiple, and divide two Pandas Series\n",
    "22. Write a Pandas program to import excel data into a Pandas dataframe\n",
    "23. Write a Pandas program to read specific columns from a given excel file\n",
    "24. Write a Pandas program to find the sum, mean, max, min value of\n",
    "25. How Can A DataFrame Be Converted To An Excel File and CSV file?\n",
    "26. What is Groupby Function In Pandas? Explain with example\n",
    "27. What is the use of apply function in pandas?\n",
    "28. How to use apply() with lambda function?\n",
    "29. Explain is the use of info, describe, head, head, and tail functions\n",
    "\n",
    "30. Write a Pandas program to check whether only a title case is present in a given\n",
    "column of a DataFrame.\n",
    "31. What is the map Function In Pandas?\n",
    "32. How will you add a column to a pandas DataFrame?\n",
    "33. How will you add a column at a specific index to a pandas DataFrame?\n",
    "34. How to Delete Indices, Rows, or Columns From a Pandas DataFrame?\n",
    "35. How to get the items which are not common to both series A and series B?\n",
    "36. How to get the minimum, 25th percentile, median, 75th, and max of a numeric\n",
    "series?\n",
    "37. How can we sort the DataFrame?\n",
    "38. How to drop duplicate rows from DataFrame?\n",
    "39. How to drop duplicate columns from DataFrame?\n",
    "40. Write a Pandas program to split a string of a column of a given DataFrame into\n",
    "multiple columns(Split Name and Surname)"
   ]
  },
  {
   "cell_type": "code",
   "execution_count": null,
   "id": "45b1a699",
   "metadata": {},
   "outputs": [],
   "source": []
  },
  {
   "cell_type": "code",
   "execution_count": null,
   "id": "182a6c5d",
   "metadata": {},
   "outputs": [],
   "source": []
  },
  {
   "cell_type": "code",
   "execution_count": null,
   "id": "423f5db0",
   "metadata": {},
   "outputs": [],
   "source": []
  },
  {
   "cell_type": "code",
   "execution_count": null,
   "id": "b65a16ad",
   "metadata": {},
   "outputs": [],
   "source": []
  },
  {
   "cell_type": "code",
   "execution_count": null,
   "id": "dc624eae",
   "metadata": {},
   "outputs": [],
   "source": []
  },
  {
   "cell_type": "code",
   "execution_count": null,
   "id": "e4ddbc88",
   "metadata": {},
   "outputs": [],
   "source": []
  },
  {
   "cell_type": "code",
   "execution_count": null,
   "id": "e38721a1",
   "metadata": {},
   "outputs": [],
   "source": []
  },
  {
   "cell_type": "code",
   "execution_count": null,
   "id": "a92d22a5",
   "metadata": {},
   "outputs": [],
   "source": []
  },
  {
   "cell_type": "code",
   "execution_count": null,
   "id": "8b3fe19b",
   "metadata": {},
   "outputs": [],
   "source": []
  },
  {
   "cell_type": "code",
   "execution_count": null,
   "id": "b78c0645",
   "metadata": {},
   "outputs": [],
   "source": []
  },
  {
   "cell_type": "code",
   "execution_count": null,
   "id": "020288f2",
   "metadata": {},
   "outputs": [],
   "source": []
  },
  {
   "cell_type": "code",
   "execution_count": null,
   "id": "7e46901f",
   "metadata": {},
   "outputs": [],
   "source": []
  },
  {
   "cell_type": "code",
   "execution_count": null,
   "id": "40bc5fe3",
   "metadata": {},
   "outputs": [],
   "source": []
  },
  {
   "cell_type": "code",
   "execution_count": null,
   "id": "d632f03d",
   "metadata": {},
   "outputs": [],
   "source": []
  },
  {
   "cell_type": "code",
   "execution_count": null,
   "id": "680b5d4d",
   "metadata": {},
   "outputs": [],
   "source": []
  },
  {
   "cell_type": "code",
   "execution_count": null,
   "id": "16797bd0",
   "metadata": {},
   "outputs": [],
   "source": []
  },
  {
   "cell_type": "code",
   "execution_count": null,
   "id": "9c159d98",
   "metadata": {},
   "outputs": [],
   "source": []
  },
  {
   "cell_type": "code",
   "execution_count": null,
   "id": "6b8dfac7",
   "metadata": {},
   "outputs": [],
   "source": []
  },
  {
   "cell_type": "code",
   "execution_count": null,
   "id": "aa83a4d0",
   "metadata": {},
   "outputs": [],
   "source": []
  },
  {
   "cell_type": "code",
   "execution_count": null,
   "id": "af15adda",
   "metadata": {},
   "outputs": [],
   "source": []
  },
  {
   "cell_type": "code",
   "execution_count": null,
   "id": "194adab5",
   "metadata": {},
   "outputs": [],
   "source": []
  },
  {
   "cell_type": "code",
   "execution_count": null,
   "id": "1f0cc786",
   "metadata": {},
   "outputs": [],
   "source": []
  },
  {
   "cell_type": "code",
   "execution_count": null,
   "id": "826cb6e6",
   "metadata": {},
   "outputs": [],
   "source": []
  },
  {
   "cell_type": "code",
   "execution_count": null,
   "id": "ca0ba89f",
   "metadata": {},
   "outputs": [],
   "source": []
  },
  {
   "cell_type": "code",
   "execution_count": null,
   "id": "dc63fdcf",
   "metadata": {},
   "outputs": [],
   "source": []
  },
  {
   "cell_type": "code",
   "execution_count": null,
   "id": "1593b43e",
   "metadata": {},
   "outputs": [],
   "source": []
  },
  {
   "cell_type": "code",
   "execution_count": null,
   "id": "8dd71958",
   "metadata": {},
   "outputs": [],
   "source": []
  },
  {
   "cell_type": "code",
   "execution_count": null,
   "id": "8c62e774",
   "metadata": {},
   "outputs": [],
   "source": []
  },
  {
   "cell_type": "code",
   "execution_count": null,
   "id": "62b6b289",
   "metadata": {},
   "outputs": [],
   "source": []
  },
  {
   "cell_type": "code",
   "execution_count": null,
   "id": "189ad97c",
   "metadata": {},
   "outputs": [],
   "source": []
  }
 ],
 "metadata": {
  "kernelspec": {
   "display_name": "Python 3 (ipykernel)",
   "language": "python",
   "name": "python3"
  },
  "language_info": {
   "codemirror_mode": {
    "name": "ipython",
    "version": 3
   },
   "file_extension": ".py",
   "mimetype": "text/x-python",
   "name": "python",
   "nbconvert_exporter": "python",
   "pygments_lexer": "ipython3",
   "version": "3.9.7"
  }
 },
 "nbformat": 4,
 "nbformat_minor": 5
}
